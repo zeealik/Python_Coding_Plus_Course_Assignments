{
 "cells": [
  {
   "cell_type": "markdown",
   "metadata": {},
   "source": [
    "<h3>Q no 1:  Write a python program to find number of occurrences of given number in a list with out using built-in methods</h3>\n",
    "<h4>**1 generate a list of some random num which is repeated again and again</h4>\n",
    "<h4>**2 take user input any number</h4>\n",
    "<h4>**3 find the number of occurrences of that num in your list</h4>\n",
    "<h4>**4 print some message to user with that result</h4>"
   ]
  },
  {
   "cell_type": "code",
   "execution_count": 95,
   "metadata": {},
   "outputs": [
    {
     "name": "stdout",
     "output_type": "stream",
     "text": [
      "Enter any Number to check how many times it is repeated in our List: 55\n",
      "Your number is repeated that times:  2\n"
     ]
    }
   ],
   "source": [
    "list =  [3,3,6,6,6,3,55,55,44,44,44,3,3,3,3]\n",
    "num = int(input(\"Enter any Number to check how many times it is repeated in our List: \"))\n",
    "count = 0   # will count the occurrences\n",
    "\n",
    "for i in list:\n",
    "    if i == num:\n",
    "        count += 1\n",
    "\n",
    "print(\"Your number is repeated that times: \" ,count)"
   ]
  },
  {
   "cell_type": "markdown",
   "metadata": {},
   "source": [
    "<h3>Q no 2:   [\"www.zframez.com\", \"www.wikipedia.org\", \"www.asp.net\", \"www.abcd.in\"]\n",
    "<br/><br/><br/><br/><br/>\n",
    "Write a python program to print website suffixes (com , org , net ,in) from this list\n",
    "</h3>"
   ]
  },
  {
   "cell_type": "code",
   "execution_count": 96,
   "metadata": {},
   "outputs": [
    {
     "name": "stdout",
     "output_type": "stream",
     "text": [
      ".com\n",
      ".org\n",
      ".net\n",
      ".in\n"
     ]
    }
   ],
   "source": [
    "list_2 =  [\"www.zframez.com\", \"www.wikipedia.org\", \"www.asp.net\", \"www.abcd.in\"] \n",
    "\n",
    "for elem in list_2:\n",
    "    loc = elem.find(\".\", 4)\n",
    "    print(elem[loc:])\n",
    "\n",
    "# below code will also work but above is much better !\n",
    "    \n",
    "# print(list_2[0][-3:])\n",
    "# print(list_2[1][-3:])\n",
    "# print(list_2[2][-3:])\n",
    "# print(list_2[3][-2:])"
   ]
  },
  {
   "cell_type": "markdown",
   "metadata": {},
   "source": [
    "<h3> Q no 3 : Write a program which can compute the factorial of a given numbers.</h3>\n",
    "<br/>\n",
    "<br/>\n",
    "<h4>**1 first take user input any number</h4>\n",
    "<h4>**2 calculate factorial of that input and then print the result to user</h4>"
   ]
  },
  {
   "cell_type": "code",
   "execution_count": 97,
   "metadata": {},
   "outputs": [
    {
     "name": "stdout",
     "output_type": "stream",
     "text": [
      "Enter a number: 4\n",
      "The factorial of 4 is 24\n"
     ]
    }
   ],
   "source": [
    "num = int(input(\"Enter a number: \"))     # take an integer value\n",
    "\n",
    "factorial = 1\n",
    "\n",
    "# check if the number is negative, positive or zero\n",
    "\n",
    "if num < 0:                                   \n",
    "    print(\"Sorry, factorial does not exist for negative numbers\")\n",
    "elif num == 0:\n",
    "    print(\"The factorial of 0 is 1\")\n",
    "else:\n",
    "    for i in range(1,num + 1):\n",
    "        factorial = factorial*i  \n",
    "    print(\"The factorial of\",num,\"is\",factorial)\n",
    "\n",
    "# value of factorial line by line if we input 4\n",
    "\n",
    "# 1st Iteration: 1 = 1 * 1 --> 1\n",
    "# 2nd Iteration: 1 = 1 * 2 --> 2\n",
    "# 3rd Iteration: 2 = 2 * 3 --> 6\n",
    "# 4th Iteration: 6 = 6 * 4 --> 24"
   ]
  },
  {
   "cell_type": "markdown",
   "metadata": {},
   "source": [
    "<h3>Q 4 (a) :  If you could invite anyone, living or deceased, to dinner, who\n",
    "would you invite? Make a list that includes at least three people you’d like to\n",
    "invite to dinner. Then use your list to print a message to each person, inviting\n",
    "them to dinner.</h3>"
   ]
  },
  {
   "cell_type": "code",
   "execution_count": 98,
   "metadata": {},
   "outputs": [
    {
     "name": "stdout",
     "output_type": "stream",
     "text": [
      "Hi Bilal! Please join us for a Dinner Party\n",
      "Hi Sajid! Please join us for a Dinner Party\n",
      "Hi Usman! Please join us for a Dinner Party\n"
     ]
    }
   ],
   "source": [
    "guests = [\"Bilal\", \"Sajid\", \"Usman\"]\n",
    "\n",
    "for elem in guests:\n",
    "    print(\"Hi {}! Please join us for a Dinner Party\".format(elem))\n"
   ]
  },
  {
   "cell_type": "markdown",
   "metadata": {},
   "source": [
    "<h3>Q 4 (b) : You just heard that one of your guests can’t make the\n",
    "dinner, so you need to send out a new set of invitations. You’ll have to think of\n",
    "someone else to invite.<br/></br><br/>\n",
    "•\t Start with your program from Q 4 (a). Add a print statement at the\n",
    "end of your program stating the name of the guest who can’t make it.<br/></br><br/>\n",
    "•\t Modify your list, replacing the name of the guest who can’t make it with\n",
    "the name of the new person you are inviting.<br/></br><br/>\n",
    "•\t Print a second set of invitation messages, one for each person who is still\n",
    "in your list.<br/></br><br/></h3>"
   ]
  },
  {
   "cell_type": "code",
   "execution_count": 99,
   "metadata": {},
   "outputs": [
    {
     "name": "stdout",
     "output_type": "stream",
     "text": [
      "Mr Sajid is not coming tonight :(\n",
      "Hi Bilal! Please join us for a Dinner Party\n",
      "Hi Asif! Please join us for a Dinner Party\n",
      "Hi Usman! Please join us for a Dinner Party\n"
     ]
    }
   ],
   "source": [
    "print(\"Mr {} is not coming tonight :(\".format(guests[1]))\n",
    "guests[1] = \"Asif\"\n",
    "\n",
    "for elem in guests:\n",
    "    print(\"Hi {}! Please join us for a Dinner Party\".format(elem))\n"
   ]
  },
  {
   "cell_type": "markdown",
   "metadata": {},
   "source": [
    "<h3>Q 4 (c) : You just found a bigger dinner table, so now more space is\n",
    "available. Think of three more guests to invite to dinner.<br/></br><br/>\n",
    "•\t Start with your program from Q 4 (a) and (b) Add a print\n",
    "statement to the end of your program informing people that you found a\n",
    "bigger dinner table.<br/></br><br/>\n",
    "•\t Use insert() to add one new guest to the beginning of your list.<br/></br><br/>\n",
    "•\t Use insert() to add one new guest to the middle of your list.<br/></br><br/>\n",
    "•\t Use append() to add one new guest to the end of your list.<br/></br><br/>\n",
    "•\t Print a new set of invitation messages, one for each person in your list.<br/></br><br/></h3>"
   ]
  },
  {
   "cell_type": "code",
   "execution_count": 100,
   "metadata": {},
   "outputs": [
    {
     "name": "stdout",
     "output_type": "stream",
     "text": [
      "Hi Shams! Please join us for a Dinner Party\n",
      "Hi Bilal! Please join us for a Dinner Party\n",
      "Hi Salman! Please join us for a Dinner Party\n",
      "Hi Asif! Please join us for a Dinner Party\n",
      "Hi Usman! Please join us for a Dinner Party\n",
      "Hi Hamid! Please join us for a Dinner Party\n"
     ]
    }
   ],
   "source": [
    "guests.insert(0,\"Shams\")\n",
    "guests.insert(2,\"Salman\")\n",
    "guests.append(\"Hamid\")\n",
    "\n",
    "for elem in guests:\n",
    "    print(\"Hi {}! Please join us for a Dinner Party\".format(elem))\n",
    "\n"
   ]
  },
  {
   "cell_type": "markdown",
   "metadata": {},
   "source": [
    "<h5> Q 5 : Here you have some data in variable below, your task is to make a list of specific word Surah then print the list and length of list</h5>\n"
   ]
  },
  {
   "cell_type": "code",
   "execution_count": 101,
   "metadata": {},
   "outputs": [],
   "source": [
    "data = \"Sura I Who believe in the Unseen, Sura Are steadfast in prayer, And spend Sura out of what We Have provided for them;\"\n"
   ]
  },
  {
   "cell_type": "code",
   "execution_count": 102,
   "metadata": {},
   "outputs": [
    {
     "name": "stdout",
     "output_type": "stream",
     "text": [
      "['Sura I Who believe in the Unseen', 'Sura Are steadfast in prayer', 'And spend Sura out of what We Have provided for them;']\n"
     ]
    },
    {
     "data": {
      "text/plain": [
       "3"
      ]
     },
     "execution_count": 102,
     "metadata": {},
     "output_type": "execute_result"
    }
   ],
   "source": [
    "surah = [\"Sura I Who believe in the Unseen\", \n",
    "         \"Sura Are steadfast in prayer\", \n",
    "         \"And spend Sura out of what We Have provided for them;\"]\n",
    "\n",
    "# الَّذِيۡنَ يُؤۡمِنُوۡنَ بِالۡغَيۡبِ وَ يُقِيۡمُوۡنَ الصَّلٰوةَ وَمِمَّا رَزَقۡنٰهُمۡ يُنۡفِقُوۡنَۙ\n",
    "\n",
    "print(surah)\n",
    "len(surah)\n",
    "        \n",
    "    \n",
    "    \n"
   ]
  }
 ],
 "metadata": {
  "kernelspec": {
   "display_name": "Python 3",
   "language": "python",
   "name": "python3"
  },
  "language_info": {
   "codemirror_mode": {
    "name": "ipython",
    "version": 3
   },
   "file_extension": ".py",
   "mimetype": "text/x-python",
   "name": "python",
   "nbconvert_exporter": "python",
   "pygments_lexer": "ipython3",
   "version": "3.7.1"
  }
 },
 "nbformat": 4,
 "nbformat_minor": 2
}
